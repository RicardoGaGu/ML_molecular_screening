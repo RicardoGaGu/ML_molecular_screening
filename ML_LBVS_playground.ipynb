{
 "cells": [
  {
   "cell_type": "markdown",
   "id": "8d3343e9",
   "metadata": {},
   "source": [
    "# Drug discovery challenge:\n",
    "\n",
    "Implement a ligand-based (only small molecules) binary classifier that is able to distinguish between actives and inactives against the HIV-1 protein. Start with molecular representations that are 1D (regular descriptors: number heavy atoms, molecular weight, ...). Your task consists on:\n",
    "- Build a pipeline with your ML framework of choice (sklearn recommended) using diferent features and models.\n",
    "- Evaluate your models with AUC-ROC style of metrics. Do not train with test_molecules.csv"
   ]
  },
  {
   "cell_type": "markdown",
   "id": "18ea64de",
   "metadata": {},
   "source": [
    "# Dataset description"
   ]
  },
  {
   "cell_type": "markdown",
   "id": "8088a5e2",
   "metadata": {},
   "source": [
    "The HIV dataset was introduced by the Drug Therapeutics Program (DTP) AIDS Antiviral Screen, which tested the ability to inhibit HIV replication for over 40,000 compounds. Screening results were evaluated and placed into three categories: confirmed inactive (CI),confirmed active (CA) and confirmed moderately active (CM). We further combine the latter two labels, making it a classification task between inactive (CI) and active (CA and CM)\". "
   ]
  },
  {
   "cell_type": "markdown",
   "id": "45f4feec",
   "metadata": {},
   "source": [
    "# Representation of chemical data\n",
    "\n",
    "Before even getting into programming the ML classifier, we need to featurize the molecules:\n",
    "\n",
    "    - SMILES and 1D descriptors\n",
    "    - A graph with some nodes and edges, pattern strings\n",
    "    - 3D coordinates, vector fields"
   ]
  },
  {
   "cell_type": "markdown",
   "id": "16b741f0",
   "metadata": {},
   "source": [
    "## SMILES representation\n",
    "\n",
    "**SMILES (Simplified Molecular Input Line Entry System)**\n",
    "\n",
    "\n",
    "This is the simplest way to reflect a molecule. The idea behind is to use simple line notations for chemical formulas that are based on some rules. Atoms of chemical elements are represented by chemical symbols in capital letter, hydrogen is usually ignored. Single bonds are not displayed; for double, triple and quadruple bonds we shall use *'='*, *'#'*, *'$'* respectively. Atoms that are bonded must stand nearby. Ring structures are written by breaking each ring at an arbitrary point (although some choices will lead to a more legible SMILES than others) to make a 'straight non-ring' structure (as if it wasn't a ring) and adding numerical ring closure labels to show connectivity between non-adjacent atoms. Aromacity is commonly illustrated by writing the constituent B, C, N, O, P and S atoms in lower-case forms b, c, n, o, p and s, respectively. To represent side chains of atomic gpoups branches are used.\n",
    "\n",
    "<img src=\"http://www.daylight.com/dayhtml/doc/theory/theory4.gif\"/>\n"
   ]
  },
  {
   "cell_type": "markdown",
   "id": "72740c0c",
   "metadata": {},
   "source": [
    "## Graphs and fingerprints\n",
    "\n",
    "**2D Fingerprints**: Molecular fingerprints are a way of encoding the structure of a molecule. The most common type of fingerprint is a series of binary digits (bits) that represent the presence or absence of particular substructures in the molecule. Comparing fingerprints allows you to determine the similarity between two molecules, to find matches to a query substructure, etc.\n",
    "\n",
    "<img src=\"https://www.researchgate.net/profile/Dong-Sheng-Cao/publication/235919348/figure/fig1/AS:299748008448007@1448476902809/Representation-of-a-molecular-substructure-fingerprint-with-a-substructure-fingerprint.png\"/>\n",
    "\n",
    "**Molecular Graph**: Molecules are simply atoms joined together by bonds. These atoms may well be of different types, and the bonds might also be different, but this sounds a lot like a graph where the atoms are the vertices and the bonds are the edges of our graph!\n",
    "\n",
    "<img src=\"https://i0.wp.com/www.blopig.com/blog/wp-content/uploads/2019/01/molecule_graph.png?ssl=1\"/>\n"
   ]
  },
  {
   "cell_type": "markdown",
   "id": "9d2c2917",
   "metadata": {},
   "source": [
    "## 3D descriptors: Conformations, Coulumb fields, shape descriptors\n",
    "\n",
    "\n",
    "\n",
    "<img src=\"https://media.springernature.com/lw685/springer-static/image/art%3A10.1038%2Fs41597-022-01288-4/MediaObjects/41597_2022_1288_Fig1_HTML.png?as=webp\"/>"
   ]
  },
  {
   "cell_type": "markdown",
   "id": "76ba2f3d",
   "metadata": {},
   "source": [
    "## Basic imports"
   ]
  },
  {
   "cell_type": "code",
   "execution_count": 13,
   "id": "b3fe6c22",
   "metadata": {},
   "outputs": [],
   "source": [
    "import rdkit\n",
    "import seaborn as sns\n",
    "import pandas as pd\n",
    "import matplotlib.pyplot as plt"
   ]
  },
  {
   "cell_type": "code",
   "execution_count": null,
   "id": "df41c185",
   "metadata": {},
   "outputs": [],
   "source": [
    "# RDKIT basics"
   ]
  },
  {
   "cell_type": "markdown",
   "id": "d30b5eee",
   "metadata": {},
   "source": [
    "## Loading the data"
   ]
  },
  {
   "cell_type": "code",
   "execution_count": 37,
   "id": "a8718bb8",
   "metadata": {},
   "outputs": [
    {
     "data": {
      "text/html": [
       "<div>\n",
       "<style scoped>\n",
       "    .dataframe tbody tr th:only-of-type {\n",
       "        vertical-align: middle;\n",
       "    }\n",
       "\n",
       "    .dataframe tbody tr th {\n",
       "        vertical-align: top;\n",
       "    }\n",
       "\n",
       "    .dataframe thead th {\n",
       "        text-align: right;\n",
       "    }\n",
       "</style>\n",
       "<table border=\"1\" class=\"dataframe\">\n",
       "  <thead>\n",
       "    <tr style=\"text-align: right;\">\n",
       "      <th></th>\n",
       "      <th>Smiles</th>\n",
       "      <th>Experimental activity</th>\n",
       "      <th>Label</th>\n",
       "    </tr>\n",
       "  </thead>\n",
       "  <tbody>\n",
       "    <tr>\n",
       "      <th>0</th>\n",
       "      <td>CCC1=[O+][Cu-3]2([O+]=C(CC)C1)[O+]=C(CC)CC(CC)...</td>\n",
       "      <td>CI</td>\n",
       "      <td>0</td>\n",
       "    </tr>\n",
       "    <tr>\n",
       "      <th>1</th>\n",
       "      <td>C(=Cc1ccccc1)C1=[O+][Cu-3]2([O+]=C(C=Cc3ccccc3...</td>\n",
       "      <td>CI</td>\n",
       "      <td>0</td>\n",
       "    </tr>\n",
       "    <tr>\n",
       "      <th>2</th>\n",
       "      <td>CC(=O)N1c2ccccc2Sc2c1ccc1ccccc21</td>\n",
       "      <td>CI</td>\n",
       "      <td>0</td>\n",
       "    </tr>\n",
       "    <tr>\n",
       "      <th>3</th>\n",
       "      <td>Nc1ccc(C=Cc2ccc(N)cc2S(=O)(=O)O)c(S(=O)(=O)O)c1</td>\n",
       "      <td>CI</td>\n",
       "      <td>0</td>\n",
       "    </tr>\n",
       "    <tr>\n",
       "      <th>4</th>\n",
       "      <td>O=S(=O)(O)CCS(=O)(=O)O</td>\n",
       "      <td>CI</td>\n",
       "      <td>0</td>\n",
       "    </tr>\n",
       "  </tbody>\n",
       "</table>\n",
       "</div>"
      ],
      "text/plain": [
       "                                              Smiles Experimental activity  \\\n",
       "0  CCC1=[O+][Cu-3]2([O+]=C(CC)C1)[O+]=C(CC)CC(CC)...                    CI   \n",
       "1  C(=Cc1ccccc1)C1=[O+][Cu-3]2([O+]=C(C=Cc3ccccc3...                    CI   \n",
       "2                   CC(=O)N1c2ccccc2Sc2c1ccc1ccccc21                    CI   \n",
       "3    Nc1ccc(C=Cc2ccc(N)cc2S(=O)(=O)O)c(S(=O)(=O)O)c1                    CI   \n",
       "4                             O=S(=O)(O)CCS(=O)(=O)O                    CI   \n",
       "\n",
       "   Label  \n",
       "0      0  \n",
       "1      0  \n",
       "2      0  \n",
       "3      0  \n",
       "4      0  "
      ]
     },
     "execution_count": 37,
     "metadata": {},
     "output_type": "execute_result"
    }
   ],
   "source": [
    "hiv = pd.read_csv('data/molecules_HIV.csv')\n",
    "hiv.head()"
   ]
  },
  {
   "cell_type": "code",
   "execution_count": 14,
   "id": "654e1662",
   "metadata": {},
   "outputs": [
    {
     "data": {
      "image/png": "[encoded data removed]",
      "text/plain": [
       "<Figure size 640x480 with 1 Axes>"
      ]
     },
     "metadata": {},
     "output_type": "display_data"
    }
   ],
   "source": [
    "# Class imbalance\n",
    "sns.countplot(data = hiv, x='HIV_active', orient='v')\n",
    "plt.ylabel('Num of molecules')\n",
    "plt.xlabel('Class 0: inactives and Class 1: Actives')\n",
    "plt.show()"
   ]
  },
  {
   "cell_type": "code",
   "execution_count": null,
   "id": "30fedd3f",
   "metadata": {},
   "outputs": [],
   "source": []
  }
 ],
 "metadata": {
  "kernelspec": {
   "display_name": "rdkitML",
   "language": "python",
   "name": "rdkitml"
  },
  "language_info": {
   "codemirror_mode": {
    "name": "ipython",
    "version": 3
   },
   "file_extension": ".py",
   "mimetype": "text/x-python",
   "name": "python",
   "nbconvert_exporter": "python",
   "pygments_lexer": "ipython3",
   "version": "3.9.16"
  }
 },
 "nbformat": 4,
 "nbformat_minor": 5
}
